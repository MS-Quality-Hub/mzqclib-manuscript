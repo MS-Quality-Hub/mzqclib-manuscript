{
 "cells": [
  {
   "cell_type": "markdown",
   "id": "384c1bd8-0565-45f2-97dd-6a777956ad54",
   "metadata": {
    "id": "384c1bd8-0565-45f2-97dd-6a777956ad54"
   },
   "source": [
    "# Using jmzqc via Maven\n",
    "\n",
    "In order to use jmzqc as a library, add the following statement to your maven pom.xml file. Please check https://ms-quality-hub.github.io/jmzqc/dependency-info.html for details on how to add the dependency for other build tools."
   ]
  },
  {
   "cell_type": "code",
   "execution_count": null,
   "id": "ccf42d49-91f1-4841-8e34-151592d6026d",
   "metadata": {
    "colab": {
     "base_uri": "https://localhost:8080/"
    },
    "id": "ccf42d49-91f1-4841-8e34-151592d6026d",
    "outputId": "7f34fd55-ee08-43f8-e8c9-5ba0cc2d959e"
   },
   "outputs": [],
   "source": [
    "%%loadFromPOM\n",
    "<!-- for mzQC functionality -->\n",
    "<dependency>\n",
    "    <groupId>org.lifs-tools</groupId>\n",
    "    <artifactId>jmzqc</artifactId>\n",
    "    <version>1.0.0-RC1</version>\n",
    "</dependency>\n",
    "<!-- for mzML access -->\n",
    "<dependency>\n",
    "    <groupId>io.github.msdk</groupId>\n",
    "    <artifactId>msdk-io-mzml</artifactId>\n",
    "    <version>0.0.27</version>\n",
    "</dependency>\n",
    "<!-- for plotting -->\n",
    "<dependency>\n",
    "    <groupId>org.knowm.xchart</groupId>\n",
    "    <artifactId>xchart</artifactId>\n",
    "    <version>3.8.2</version>\n",
    "</dependency>\n",
    "<!-- for logging -->\n",
    "<dependency>\n",
    "    <groupId>org.slf4j</groupId>\n",
    "    <artifactId>slf4j-simple</artifactId>\n",
    "    <version>1.7.26</version>\n",
    "</dependency>"
   ]
  },
  {
   "cell_type": "markdown",
   "id": "beeba2b9-3577-43be-8101-8a92f9e5b9ae",
   "metadata": {
    "id": "beeba2b9-3577-43be-8101-8a92f9e5b9ae"
   },
   "source": [
    "Add the following imports to your Java file to use the MzQC classes and the validation messages."
   ]
  },
  {
   "cell_type": "code",
   "execution_count": null,
   "id": "6ee37984-65fa-444a-a3f4-b42e203044b5",
   "metadata": {
    "id": "6ee37984-65fa-444a-a3f4-b42e203044b5"
   },
   "outputs": [],
   "source": [
    "import java.nio.*;\n",
    "import java.nio.file.*;\n",
    "import java.net.*;\n",
    "import java.io.*;"
   ]
  },
  {
   "cell_type": "code",
   "execution_count": null,
   "id": "piMrBjrmUU8v",
   "metadata": {
    "id": "piMrBjrmUU8v"
   },
   "outputs": [],
   "source": [
    "var outputDir = new File(\"proteomics-qc\");\n",
    "var baseName = \"20181113_010_autoQC01\";\n",
    "var file = new File(outputDir, baseName + \".mzML\");\n",
    "var fileUrl = \"https://massive.ucsd.edu/ProteoSAFe/DownloadResultFile?file=f.MSV000086542/ccms_peak/20181113_010_autoQC01.mzML&forceDownload=true\";\n",
    "\n",
    "try {\n",
    "    if( outputDir.isDirectory()) {\n",
    "    // clear all files if they exist in target dir\n",
    "        Files.walk(outputDir.toPath())\n",
    "              .sorted(Comparator.reverseOrder())\n",
    "              .map(Path::toFile)\n",
    "              .forEach(File::delete);\n",
    "    }\n",
    "    outputDir.mkdirs();\n",
    "    System.out.println(\"Downloading file\");\n",
    "    InputStream in = new URL(fileUrl).openStream();\n",
    "    Files.copy(in, file.toPath(), StandardCopyOption.REPLACE_EXISTING);\n",
    "    System.out.println(\"Done!\");\n",
    "} catch (IOException ex) {\n",
    "    System.err.println(\"Exception:\" + ex.getLocalizedMessage());\n",
    "}"
   ]
  },
  {
   "cell_type": "code",
   "execution_count": null,
   "id": "9tNFV31zVqWm",
   "metadata": {
    "id": "9tNFV31zVqWm",
    "tags": []
   },
   "outputs": [],
   "source": [
    "import io.github.msdk.MSDKException;\n",
    "import io.github.msdk.MSDKRuntimeException;\n",
    "import io.github.msdk.datamodel.ChromatogramType;\n",
    "import io.github.msdk.io.mzml.MzMLFileImportMethod;\n",
    "import io.github.msdk.io.mzml.data.MzMLRawDataFile;\n",
    "import java.util.stream.Collectors;\n",
    "List<MzMLRawDataFile> mzMLData = Collections.emptyList();\n",
    "try {\n",
    "    var mzMLFilePaths = Files.list(outputDir.toPath()).collect(Collectors.toList());\n",
    "    mzMLData = mzMLFilePaths.stream().map(path -> {\n",
    "        try {\n",
    "            return new MzMLFileImportMethod(path).execute();\n",
    "        } catch (MSDKException ex) {\n",
    "            throw new MSDKRuntimeException(ex);\n",
    "        }\n",
    "    }\n",
    "    ).collect(Collectors.toList());\n",
    "} catch (IOException ex) {\n",
    "    System.err.println(\"Exception:\" + ex.getLocalizedMessage());\n",
    "}"
   ]
  },
  {
   "cell_type": "code",
   "execution_count": null,
   "id": "ZmhXdvPdWOsL",
   "metadata": {
    "id": "ZmhXdvPdWOsL"
   },
   "outputs": [],
   "source": [
    "import org.lifstools.jmzqc.*;\n",
    "import com.networknt.schema.*;\n",
    "import java.util.AbstractMap.SimpleEntry;\n",
    "import com.google.common.collect.Range;\n",
    "var mzMLFormatParameter = new CvParameter(\"MS:1000584\", null, \"mzML format\", null);\n",
    "Map<InputFile, List<QualityMetric>> mzMLFileStats = mzMLData.stream().map((t) -> {\n",
    "    System.out.println(\"Processing file: \" + t.getName());\n",
    "    System.out.print(\"MS1 mz range...\");\n",
    "    var ms1MzRange = t.getScans().stream().filter(\n",
    "            scan -> scan.getMsLevel() == 1\n",
    "    ).map(\n",
    "            scan -> scan.getMzRange()\n",
    "    ).reduce(\n",
    "            (l, r) -> l.span(r)\n",
    "    ).orElse(Range.singleton(Double.NaN));\n",
    "    System.out.println(ms1MzRange);\n",
    "\n",
    "    var ms1MzRangeMetric = new QualityMetric(\"MS:4000069\", null, \"m/z acquisition range\", Arrays.asList(ms1MzRange.lowerEndpoint(), ms1MzRange.upperEndpoint()), null);\n",
    "    System.out.print(\"TIC and RT values...\");\n",
    "    var ticValuesAndRts = t.getChromatograms().stream().filter(\n",
    "            chrom -> chrom.getChromatogramType() == ChromatogramType.TIC\n",
    "    ).findFirst().map(\n",
    "            chrom -> {\n",
    "                return new SimpleEntry<>(chrom.getRetentionTimes(), chrom.getIntensityValues());\n",
    "            }\n",
    "    ).orElse(new SimpleEntry<>(new float[0], new float[0]));\n",
    "    System.out.println(\"RT values: \"+ticValuesAndRts.getKey().length+\" TIC values: \"+ticValuesAndRts.getValue().length);\n",
    "    var totalIonChromatogram = new QualityMetric(\n",
    "            \"MS:1000235\",\n",
    "            null,\n",
    "            \"total ion current chromatogram\",\n",
    "            ticValuesAndRts.getValue(), new Unit(new CvParameter(\"UO:0000010\", null, \"second\", ticValuesAndRts.getKey()), null));\n",
    "    var numberOfChromatogramsMetric = new QualityMetric(\"MS:4000071\", null, \"number of chromatograms\", t.getChromatograms().stream().count(), null);\n",
    "    System.out.print(\"RT range...\");\n",
    "    var rtRange = t.getScans().stream().map(\n",
    "            scan -> Range.singleton(scan.getRetentionTime())\n",
    "    ).reduce(\n",
    "            (lrt, rrt) -> lrt.span(rrt)\n",
    "    ).get();\n",
    "    System.out.println(rtRange);\n",
    "    var rtRangeMetric = new QualityMetric(\"MS:4000070\", null, \"retention time acquisition range\", Arrays.asList(rtRange.lowerEndpoint(), rtRange.upperEndpoint()), new Unit(new CvParameter(\"UO:0000010\", null, \"second\", null), null));\n",
    "    return new SimpleEntry<InputFile, List<QualityMetric>>(\n",
    "            new InputFile(mzMLFormatParameter, Collections.emptyList(), t.getOriginalFile().get().toURI(), t.getName()),\n",
    "            Arrays.asList(\n",
    "                    numberOfChromatogramsMetric,\n",
    "                    ms1MzRangeMetric,\n",
    "                    rtRangeMetric,\n",
    "                    totalIonChromatogram\n",
    "            )\n",
    "    );\n",
    "}).collect(Collectors.toMap(Map.Entry::getKey, Map.Entry::getValue));"
   ]
  },
  {
   "cell_type": "code",
   "execution_count": null,
   "id": "Gd9s3lGSXylv",
   "metadata": {
    "id": "Gd9s3lGSXylv"
   },
   "outputs": [],
   "source": [
    "import com.fasterxml.jackson.annotation.JsonInclude.Include;\n",
    "import com.fasterxml.jackson.core.JsonFactoryBuilder;\n",
    "import com.fasterxml.jackson.core.JsonParser;\n",
    "import com.fasterxml.jackson.core.JsonProcessingException;\n",
    "import com.fasterxml.jackson.core.json.JsonReadFeature;\n",
    "import com.fasterxml.jackson.databind.DeserializationContext;\n",
    "import com.fasterxml.jackson.databind.JsonDeserializer;\n",
    "import com.fasterxml.jackson.databind.ObjectMapper;\n",
    "import com.fasterxml.jackson.databind.ObjectWriter;\n",
    "import com.fasterxml.jackson.databind.SerializationFeature;\n",
    "import com.fasterxml.jackson.databind.module.SimpleModule;\n",
    "/* helper function to create formatted / pretty printed JSON */\n",
    "public static ObjectWriter prepareJsonWriter() {\n",
    "    JsonFactoryBuilder jfb = new JsonFactoryBuilder().\n",
    "            enable(JsonReadFeature.ALLOW_TRAILING_COMMA);\n",
    "    ObjectMapper mapper = new ObjectMapper(jfb.build());\n",
    "    mapper.findAndRegisterModules();\n",
    "    mapper.configure(SerializationFeature.WRITE_DATES_AS_TIMESTAMPS, false);\n",
    "    mapper.configure(SerializationFeature.INDENT_OUTPUT, true);\n",
    "    mapper.configure(JsonParser.Feature.ALLOW_COMMENTS, true);\n",
    "    mapper.setSerializationInclusion(Include.NON_EMPTY);\n",
    "\n",
    "    SimpleModule module = new SimpleModule();\n",
    "    module.addDeserializer(OffsetDateTime.class, new JsonDeserializer<OffsetDateTime>() {\n",
    "        @Override\n",
    "        public OffsetDateTime deserialize(JsonParser jsonParser, DeserializationContext deserializationContext) throws IOException, JsonProcessingException {\n",
    "            String value = jsonParser.getText();\n",
    "            return Converter.parseDateTimeString(value);\n",
    "        }\n",
    "    });\n",
    "    mapper.registerModule(module);\n",
    "    return mapper.writerFor(Coordinate.class);\n",
    "}"
   ]
  },
  {
   "cell_type": "code",
   "execution_count": null,
   "id": "0zJsjeg2XmdT",
   "metadata": {
    "id": "0zJsjeg2XmdT"
   },
   "outputs": [],
   "source": [
    "import java.time.OffsetDateTime;\n",
    "MzQC mzQC = null;\n",
    "try {\n",
    "    var analysisSoftware = new AnalysisSoftware(\"MS:1000799\", null, \"custom unreleased software tool\", \"jmzqc\", new URI(\"https://github.com/MS-Quality-hub/jmzqc\"), \"1.0.0-RC1\");\n",
    "    List<BaseQuality> bqs = mzMLFileStats.entrySet().stream().map((t) -> {\n",
    "        Metadata metadata = new Metadata(Arrays.asList(analysisSoftware), Collections.emptyList(), Arrays.asList(t.getKey()), null);\n",
    "        return new BaseQuality(metadata, t.getValue());\n",
    "    }\n",
    "    ).collect(Collectors.toList());\n",
    "    mzQC = new MzQC(\n",
    "            \"nils.hoffmann@cebitec.uni-bielefeld.de\",\n",
    "            \"Nils Hoffmann\",\n",
    "            Arrays.asList(\n",
    "                    new ControlledVocabulary(\n",
    "                            \"Proteomics Standards Initiative Mass Spectrometry Ontology\",\n",
    "                            new URI(\"https://github.com/HUPO-PSI/psi-ms-CV/releases/download/v4.1.103/psi-ms.obo\"),\n",
    "                            \"4.1.103\"\n",
    "                    )\n",
    "            ),\n",
    "            OffsetDateTime.now(),\n",
    "            \"MzQC for basic QC information on MetaboLights dataset MTBLS1375\",\n",
    "            bqs,\n",
    "            Collections.emptyList(),\n",
    "            \"1.0.0\");\n",
    "    Set<ValidationMessage> messages = Converter.validate(mzQC);\n",
    "    System.out.println(\"Validation messages: \" + messages);\n",
    "    if(!messages.isEmpty()) {\n",
    "      System.err.println(\"Validation failed with \"+messages.size()+\" messages!\");\n",
    "    } else {\n",
    "      ObjectWriter writer = prepareJsonWriter();\n",
    "      writer.writeValue(new File(outputDir, baseName + \".mzQC\"), new Coordinate(mzQC));\n",
    "      System.out.println(writer.writeValueAsString(new Coordinate(mzQC)).substring(0,499));\n",
    "    }\n",
    "} catch (URISyntaxException | IOException ex) {\n",
    "    System.err.println(\"Exception: \"+ex.getLocalizedMessage());\n",
    "}"
   ]
  },
  {
   "cell_type": "code",
   "execution_count": null,
   "id": "zXn0i-Y7ZLXc",
   "metadata": {
    "id": "zXn0i-Y7ZLXc"
   },
   "outputs": [],
   "source": [
    "import org.knowm.xchart.*;\n",
    "import java.util.stream.IntStream;\n",
    "\n",
    "// extract TIC metric(s) from first run at index 0\n",
    "var ticQualityMetrics = mzQC.getRunQualityMetricsByAccession(0, \"MS:1000235\");\n",
    "// select TIC metric (first and only element of the metric list) value\n",
    "float[] values = (float[])ticQualityMetrics.get(0).value();\n",
    "// select TIC metric unit value\n",
    "float[] rts = (float[])ticQualityMetrics.get(0).unit().cvParameterValue().value();\n",
    "// create a TIC chart\n",
    "XYChart chart = QuickChart.getChart(\"TIC Chart\", \"RT [s]\", \"Intensity [a.u.]\", \n",
    "        mzQC.runQualities().get(0).metadata().inputFiles().get(0).name(),\n",
    "//this plotting lib wants data as doubles, so convert our floats to double                                    \n",
    "        IntStream.range(0, rts.length).mapToDouble(i -> rts[i]).toArray(), \n",
    "        IntStream.range(0, values.length).mapToDouble(i -> values[i]).toArray());\n",
    "//generate image\n",
    "BitmapEncoder.getBufferedImage(chart);\n"
   ]
  }
 ],
 "metadata": {
  "colab": {
   "collapsed_sections": [],
   "provenance": []
  },
  "kernelspec": {
   "display_name": "Java",
   "language": "java",
   "name": "java"
  },
  "language_info": {
   "codemirror_mode": "java",
   "file_extension": ".jshell",
   "mimetype": "text/x-java-source",
   "name": "Java",
   "pygments_lexer": "java",
   "version": "17.0.4.1+1-LTS"
  }
 },
 "nbformat": 4,
 "nbformat_minor": 5
}
