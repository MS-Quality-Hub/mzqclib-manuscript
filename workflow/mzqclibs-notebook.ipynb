{
 "cells": [
  {
   "cell_type": "markdown",
   "metadata": {},
   "source": [
    "# QC inspection of: \"The broccoli-derived antioxidant sulforaphane changes the growth of gastrointestinal microbiota, allowing for the production of anti-inflammatory metabolites*\"\n",
    "\n",
    "\\[*\\]:https://doi.org/10.1016/j.jff.2023.105645\n",
    "\n",
    "Simple proteomics experiment, 8 batches of E. coli grown in two groups of media, measured with QExactive+, label-free quantitative analysis with MQ followed. As a bonus, the publication also has a related metabolomics experiment.\n",
    "\n",
    "We will use this experiment to highlight how one could approach a simple post-hoc QC process using mzQC and the described implementation libraries. Here, we will focus not on the quality metrics applied, since those are outside the design-scope of the mzQC-libraries and implemented for this manuscript in concise scripts only to lend the demonstration an approachable context. `<Ref. GitHub repo for manuscript><Ref. format manuscript for QC metrics>` \n",
    "Instead, we will use the described process to highlight -from different angles- the ease of generating, handling, and benefitting from QC data.\n",
    "\n",
    "On a side note, yet important to highlight, it's always good to have a look at the data from the raw side of things first. Like so, we discovered two raw files of the experiment, EG1 and EG2, to be damaged during file transmission and deposition in PRIDE archive. This was fixed by contacting the authors who reshared the files for an easy recovery to the dataset. "
   ]
  },
  {
   "cell_type": "markdown",
   "metadata": {},
   "source": [
    "## Methods\n",
    "LSF batched: 1. raw conversion with ThermoRawFileParser, 2. Identification with Ecoli K12 Uniprot proteome database and comet, 3. mzQC construction from mzML/mzid input, demonstrating the use of the libraries. \n",
    "The construction of the mzQC files was done with the Java, R, and Python mzQC library implementations, each creating QC data for a different set of metrics from peak data access as common with the respective language. `<Table with metrics implemented><The individual library implementation details>`. \n",
    "(Any preparatory work was done as with the previous datasets, yet different fasta for identification.)\n",
    "\n",
    "A workflow was designed to resmeble a common post-hoc QC process one might employ when investigating a new dataset. \n",
    "Motivation: This is common for multiple scenarios \n",
    "- planning a new experiment that bases on knowledge derived from previous publications, so data from these previous publication gets independently validated if not directly integrated into a greater analysis with new data \n",
    "- collecting data for meta-analysis projects\n",
    "- publication review or while facing contradictory results from a related experiment\n",
    "-> And thus the quality of data for that purpose needs to be investigated.\n",
    "\n",
    "The metrics are created with simplicity and ease of use in mind, so if it is easier to calculate one set of values first and then create a differnet set of values from that or a commbination of others in another language, thats fine and we show how to do it.\n",
    "\n"
   ]
  },
  {
   "cell_type": "markdown",
   "metadata": {},
   "source": [
    "## Results\n",
    "The workflow using different programming languages highlights:\n",
    "- at its most basic, the interoperability of mzQC between different programming languages/compute environments.\n",
    "- aside from `syntactical sugar` distinctive to each language, handling mzQC data is largely the same experience thanks to core concepts. \n",
    "- interaction between standard libraries - easy to get to the data you need thanks to a standardidsed format and robust implemnetation libraries .\n",
    "fits right into modern data science with R/Python and data frames.\n",
    "\n",
    "We also showcase how to apply metric value scaling to visually (as opposed to algorithmically) control for outliers within a custom acceptance range.\n",
    "\n",
    "We also show in a basic fashion how to evaluate the results in context (acquisition-date order, grouping, identification search space) to discover local optimisation options e.g. the identification input parameters."
   ]
  },
  {
   "cell_type": "markdown",
   "metadata": {},
   "source": [
    "## First load the mzQC into memory\n",
    "This step assumes you have successfully produced mzqc files for all MS experiments reported in the study, and merged them into one file. We will load this file and merge the metric values into one complete DataFrame of metric values, one run per row."
   ]
  },
  {
   "cell_type": "markdown",
   "metadata": {},
   "source": [
    "### code details"
   ]
  },
  {
   "cell_type": "code",
   "execution_count": null,
   "metadata": {
    "colab": {
     "base_uri": "https://localhost:8080/"
    },
    "id": "s4rL0VTQvNGr",
    "outputId": "94a475f7-0c89-4c2e-f510-68d729652e58"
   },
   "outputs": [],
   "source": [
    "import os\n",
    "from collections import defaultdict\n",
    "from typing import List\n",
    "\n",
    "import matplotlib.pyplot as plt\n",
    "import numpy as np\n",
    "import pandas as pd\n",
    "import seaborn as sns\n",
    "from matplotlib import ticker\n",
    "from sklearn.decomposition import PCA\n",
    "from sklearn.preprocessing import StandardScaler\n",
    "\n",
    "from mzqc import MZQCFile as qc"
   ]
  },
  {
   "cell_type": "code",
   "execution_count": null,
   "metadata": {
    "id": "zrhvcJGtyZgp"
   },
   "outputs": [],
   "source": [
    "# Read the files to memory\n",
    "merged_mzqc = \"../test_data/PXD040621/PXD040621.mzqc\"\n",
    "with open(merged_mzqc, \"r\") as f:\n",
    "    mzqcobj = qc.JsonSerialisable.FromJson(f)"
   ]
  },
  {
   "cell_type": "markdown",
   "metadata": {},
   "source": [
    "### Available metrics\n",
    "\n",
    "Java\n",
    "* mz_range[\"MS:4000069\"]\n",
    "* rt_range[\"MS:4000070\"]\n",
    "* basepeakintensities_sum[\"MS:1000505\"]\n",
    "* ticintensities_sum[\"MS:1000285\"].sum()\n",
    "\n",
    "R\n",
    "* MS1_ict_mean[\"MS:4000132\"]\n",
    "* MS1_ict_std[\"MS:4000133\"]\n",
    "* MS2_ict_mean[\"MS:4000137\"]\n",
    "* MS2_ict_std[\"MS:4000138\"]\n",
    "\n",
    "Python\n",
    "* num_MS2[\"MS:4000060\"]\n",
    "* num_id_MS2[MS:1003251\"]\n",
    "* id_pep[\"MS:1003250\"]\n",
    "* id_prot[\"MS:1002404\"]\n",
    "* num_mc / \"enzyme digestion parameters\"[\"MS:1000927\"].mean()\n",
    "* id_nthq_rtfrac [\"id_quarter_rt_fraction\"]\n",
    "* id_dppm_mean[\"absolute dppm mean\"]\n",
    "* id_dppm_std[\"absolute dppm sigma\"]\n",
    "\n",
    "With the available metrics the value distributions for the complete data frame looks like below."
   ]
  },
  {
   "cell_type": "code",
   "execution_count": null,
   "metadata": {},
   "outputs": [],
   "source": [
    "def base_run_name(ifs: List[qc.InputFile]) -> str:\n",
    "    fn = next(iter(ifs)).name\n",
    "    if fn.endswith((\".mzML\", \".mzml\", \".mzid\")):\n",
    "        return next(iter(os.path.splitext(os.path.basename(fn))))\n",
    "    else:\n",
    "        return fn\n",
    "\n",
    "\n",
    "def load_rdf(run_name: str, run_metrics: List[qc.QualityMetric]) -> pd.DataFrame:\n",
    "    df = pd.DataFrame(\n",
    "        [\n",
    "            {\n",
    "                \"MS1_ict_mean\": next(\n",
    "                    iter(\n",
    "                        [cd.value for cd in run_metrics if cd.accession == \"MS:4000132\"]\n",
    "                    )\n",
    "                ),\n",
    "                \"MS1_ict_std\": next(\n",
    "                    iter(\n",
    "                        [cd.value for cd in run_metrics if cd.accession == \"MS:4000133\"]\n",
    "                    )\n",
    "                ),\n",
    "                \"MS2_ict_mean\": next(\n",
    "                    iter(\n",
    "                        [cd.value for cd in run_metrics if cd.accession == \"MS:4000137\"]\n",
    "                    )\n",
    "                ),\n",
    "                \"MS2_ict_std\": next(\n",
    "                    iter(\n",
    "                        [cd.value for cd in run_metrics if cd.accession == \"MS:4000138\"]\n",
    "                    )\n",
    "                ),\n",
    "                \"run_name\": run_name,\n",
    "            }\n",
    "        ]\n",
    "    ).set_index(\"run_name\")\n",
    "    return df\n",
    "\n",
    "\n",
    "def load_jdf(run_name: str, run_metrics: List[qc.QualityMetric]) -> pd.DataFrame:\n",
    "    df = pd.DataFrame(\n",
    "        [\n",
    "            {\n",
    "                \"mz_range\": next(\n",
    "                    iter(\n",
    "                        [cd.value for cd in run_metrics if cd.accession == \"MS:4000069\"]\n",
    "                    )\n",
    "                ),\n",
    "                \"rt_range\": next(\n",
    "                    iter(\n",
    "                        [cd.value for cd in run_metrics if cd.accession == \"MS:4000070\"]\n",
    "                    )\n",
    "                ),\n",
    "                \"basepeakintensities_sum\": next(\n",
    "                    iter(\n",
    "                        [\n",
    "                            pd.Series(cd.value).sum()\n",
    "                            for cd in run_metrics\n",
    "                            if cd.accession == \"MS:1000505\"\n",
    "                        ]\n",
    "                    )\n",
    "                ),\n",
    "                \"ticintensities_sum\": next(\n",
    "                    iter(\n",
    "                        [\n",
    "                            pd.DataFrame(cd.value)[\"MS:1000285\"].sum()\n",
    "                            for cd in run_metrics\n",
    "                            if cd.accession == \"MS:4000104\"\n",
    "                        ]\n",
    "                    )\n",
    "                ),\n",
    "                \"run_name\": run_name,\n",
    "            }\n",
    "        ]\n",
    "    ).set_index(\"run_name\")\n",
    "    df = df.join(\n",
    "        pd.DataFrame(\n",
    "            df.pop(\"mz_range\").tolist(), index=df.index, columns=[\"mz_min\", \"mz_max\"]\n",
    "        )\n",
    "    )\n",
    "    df = df.join(\n",
    "        pd.DataFrame(\n",
    "            df.pop(\"rt_range\").tolist(), index=df.index, columns=[\"rt_min\", \"rt_max\"]\n",
    "        )\n",
    "    )\n",
    "    return df\n",
    "\n",
    "\n",
    "def load_pdf(run_name: str, run_metrics: List[qc.QualityMetric]) -> pd.DataFrame:\n",
    "    df = pd.DataFrame(\n",
    "        [\n",
    "            {\n",
    "                \"num_MS2\": next(\n",
    "                    iter(\n",
    "                        [cd.value for cd in run_metrics if cd.accession == \"MS:4000060\"]\n",
    "                    )\n",
    "                ),\n",
    "                \"num_id_MS2\": next(\n",
    "                    iter(\n",
    "                        [cd.value for cd in run_metrics if cd.accession == \"MS:1003251\"]\n",
    "                    )\n",
    "                ),\n",
    "                \"id_pep\": next(\n",
    "                    iter(\n",
    "                        [cd.value for cd in run_metrics if cd.accession == \"MS:1003250\"]\n",
    "                    )\n",
    "                ),\n",
    "                \"id_prot\": next(\n",
    "                    iter(\n",
    "                        [cd.value for cd in run_metrics if cd.accession == \"MS:1002404\"]\n",
    "                    )\n",
    "                ),\n",
    "                \"num_mc\": (\n",
    "                    pd.DataFrame(\n",
    "                        next(\n",
    "                            iter(\n",
    "                                [\n",
    "                                    cd.value\n",
    "                                    for cd in run_metrics\n",
    "                                    if cd.name == \"table of missed cleavage counts\"\n",
    "                                ]\n",
    "                            )\n",
    "                        )\n",
    "                    )[\"NCIT:C150827\"].to_list()\n",
    "                    + 4 * [0]\n",
    "                )[:4],\n",
    "                \"id_quarter_rt_fraction\": next(\n",
    "                    iter(\n",
    "                        [\n",
    "                            cd.value\n",
    "                            for cd in run_metrics\n",
    "                            if cd.name == \"identified MS2 quarter RT fraction\"\n",
    "                        ]\n",
    "                    )\n",
    "                ),\n",
    "                \"id_dppm_mean\": next(\n",
    "                    iter(\n",
    "                        [\n",
    "                            cd.value\n",
    "                            for cd in run_metrics\n",
    "                            if cd.name == \"precursor ppm deviation mean\"\n",
    "                        ]\n",
    "                    )\n",
    "                ),\n",
    "                \"id_dppm_std\": next(\n",
    "                    iter(\n",
    "                        [\n",
    "                            cd.value\n",
    "                            for cd in run_metrics\n",
    "                            if cd.name == \"precursor ppm deviation sigma\"\n",
    "                        ]\n",
    "                    )\n",
    "                ),\n",
    "                \"run_name\": run_name,\n",
    "            }\n",
    "        ]\n",
    "    ).set_index(\"run_name\")\n",
    "    df = df.join(\n",
    "        pd.DataFrame(\n",
    "            df.pop(\"num_mc\").to_list(),\n",
    "            index=df.index,\n",
    "            columns=[\"0 mc\", \"1 mc\", \"2 mc\", \"3+ mc\"],\n",
    "        )\n",
    "    )\n",
    "    df = df.join(\n",
    "        pd.DataFrame(\n",
    "            df.pop(\"id_quarter_rt_fraction\").tolist(),\n",
    "            index=df.index,\n",
    "            columns=[\n",
    "                \"id_1stq_rtfrac\",\n",
    "                \"id_2ndq_rtfrac\",\n",
    "                \"id_3rdq_rtfrac\",\n",
    "                \"id_4thq_rtfrac\",\n",
    "            ],\n",
    "        )\n",
    "    )\n",
    "    return df"
   ]
  },
  {
   "cell_type": "code",
   "execution_count": null,
   "metadata": {},
   "outputs": [],
   "source": [
    "mzqc_df = pd.DataFrame()\n",
    "dfs = defaultdict(list)\n",
    "for run in mzqcobj.runQualities:\n",
    "    sws = [sw.name for sw in run.metadata.analysisSoftware]\n",
    "    if \"mzR\" in sws:\n",
    "        dfs[\"rmzqc\"].append(\n",
    "            load_rdf(base_run_name(run.metadata.inputFiles), run.qualityMetrics)\n",
    "        )\n",
    "    if \"simple qc metric calculator\" in sws:\n",
    "        dfs[\"pymzqc\"].append(\n",
    "            load_pdf(base_run_name(run.metadata.inputFiles), run.qualityMetrics)\n",
    "        )\n",
    "    if \"custom unreleased software tool\" in sws and \"mzR\" not in sws:\n",
    "        dfs[\"jmzqc\"].append(\n",
    "            load_jdf(base_run_name(run.metadata.inputFiles), run.qualityMetrics)\n",
    "        )\n",
    "mzqc_df = pd.concat([pd.concat(t).astype(\"float\") for t in dfs.values()], axis=1)\n",
    "\n",
    "mc_cols = [col for col in mzqc_df.columns if col.endswith(\"mc\")]\n",
    "for mc in [0, 1, 2, \"3+\"]:\n",
    "    mzqc_df[f\"{mc} mc\"] /= mzqc_df[\"id_pep\"]\n",
    "\n",
    "mzqc_df"
   ]
  },
  {
   "cell_type": "markdown",
   "metadata": {},
   "source": [
    "## Add run meta-data \n",
    "The runs were acquired in non-sequential order as shown below. \n",
    "So we will add a column for the order of sequence [1,8] so we can sort the runs by date if needbe. \n",
    "Additionally, we will add grouping information. Here, `DMSO` stands for the control group, and `Suf` for the group with sulforaphane added to the sample growth medium."
   ]
  },
  {
   "cell_type": "code",
   "execution_count": null,
   "metadata": {
    "colab": {
     "base_uri": "https://localhost:8080/",
     "height": 320
    },
    "id": "2PSXwKFC0Zq5",
    "outputId": "dd1ca457-b426-4291-8809-07676c54c88c"
   },
   "outputs": [],
   "source": [
    "mzqc_df.index = mzqc_df.index.str.removeprefix(\"20220830_JL-4884_Forster_\")\n",
    "mzqc_df.sort_index(inplace=True)\n",
    "mzqc_df = mzqc_df.assign(date_order=[1, 2, 4, 7, 6, 3, 5, 8]).assign(\n",
    "    group=[*[\"DMSO\"] * 4, *[\"Suf\"] * 4]\n",
    ")\n",
    "mzqc_df.describe()"
   ]
  },
  {
   "cell_type": "code",
   "execution_count": null,
   "metadata": {},
   "outputs": [],
   "source": [
    "ax = pd.DataFrame({v: 1 for v in mzqc_df.date_order.values}, index=[\"Run\"]).plot.barh(\n",
    "    stacked=True,\n",
    "    xlabel=\"Run Order\",\n",
    "    legend=False,\n",
    "    width=1,\n",
    "    color=mzqc_df.sort_values(by=[\"date_order\"])\n",
    "    .group.replace({\"DMSO\": \"green\", \"Suf\": \"orange\"})\n",
    "    .values,\n",
    ")\n",
    "\n",
    "for c, n in zip(ax.containers, mzqc_df.sort_values(by=[\"date_order\"]).index.values):\n",
    "    labels = [n]\n",
    "    ax.bar_label(c, labels=labels, label_type=\"center\", rotation=90)\n",
    "\n",
    "ax.spines[\"top\"].set_visible(False)\n",
    "ax.spines[\"right\"].set_visible(False)\n",
    "ax.spines[\"bottom\"].set_visible(False)\n",
    "ax.spines[\"left\"].set_visible(False)\n",
    "ax.margins(x=0, y=0, tight=True)\n",
    "ax.set_ylim(-0.5, 0.5)"
   ]
  },
  {
   "cell_type": "markdown",
   "metadata": {},
   "source": [
    "## Check if the QC metric parameters reflect the experiment grouping\n",
    "With mzQC we can produce a data frame with ease as seen before, and can subsequently use that data frame to directly perform data analysis by.\n",
    "Here, we do so with a quick PCA on the metric values, excluding the `group` since we want to use this as independent parameter to color by, and `date order` since as a index sequence it has no relevant information. \n",
    "Of course, we have to remove columns informing on the grouping first, as well as the identifications metric related columns, as these will likely introduce bias given that the study hypothesis holds true (i.e. sulforaphane changes the protein expression of E. coli)."
   ]
  },
  {
   "cell_type": "code",
   "execution_count": null,
   "metadata": {},
   "outputs": [],
   "source": [
    "x = mzqc_df.loc[\n",
    "    :, mzqc_df.columns.drop(list(mzqc_df.filter(regex=\"^id_|num_mc|group|date_order\")))\n",
    "].values\n",
    "x = StandardScaler().fit_transform(x)\n",
    "pca = PCA(n_components=2)\n",
    "pca_values = pca.fit_transform(x)\n",
    "\n",
    "pca_df = pd.DataFrame(\n",
    "    data=pca_values,\n",
    "    index=mzqc_df.index,\n",
    "    columns=[\"principal component 1\", \"principal component 2\"],\n",
    ")\n",
    "\n",
    "labels, index = np.unique(mzqc_df.group, return_inverse=True)\n",
    "fig, ax = plt.subplots()\n",
    "sc = ax.scatter(\n",
    "    pca_df[\"principal component 1\"],\n",
    "    pca_df[\"principal component 2\"],\n",
    "    marker=\"o\",\n",
    "    c=index,\n",
    "    cmap=\"viridis\",\n",
    "    alpha=0.8,\n",
    ")\n",
    "ax.legend(sc.legend_elements()[0], labels)\n",
    "plt.show()"
   ]
  },
  {
   "cell_type": "markdown",
   "metadata": {},
   "source": [
    "## Heatmap of the raw metric values\n",
    "One run of the control group could be suspected to be an outlier measurement (Figure above, left-most DMSO datum). \n",
    "To further investigate, we will first compare the runs' metric values across the observed value range with a clustered heatmap to find out more about the value distribution of the individual metrics for this experiment. Therefore, we will scale the metric values to percentile rank values (i.e. scale each column to [0,1]) for color gradient mapping (i.e. a heatmap)."
   ]
  },
  {
   "cell_type": "code",
   "execution_count": null,
   "metadata": {
    "colab": {
     "base_uri": "https://localhost:8080/",
     "height": 1000
    },
    "id": "7o0szhFLEfFV",
    "outputId": "4044cb14-314d-4412-81f5-4e4e3fb7db3c"
   },
   "outputs": [],
   "source": [
    "hmdf = mzqc_df.drop([\"date_order\", \"group\"], axis=1).rename(\n",
    "    columns={\n",
    "        \"mz_range\": \"m/z range\",\n",
    "        \"rt_range\": \"RT Range\",\n",
    "        \"basepeakintensities_sum\": \"Basepeak Σ\",\n",
    "        \"ticintensities_sum\": \"TIC Σ\",\n",
    "        \"MS1_ict_mean\": \"Dwell time MS1 mean\",\n",
    "        \"MS1_ict_std\": \"Dwell time MS1 std\",\n",
    "        \"MS2_ict_mean\": \"Dwell time MS2 mean\",\n",
    "        \"MS2_ict_std\": \"Dwell time MS2 std\",\n",
    "        \"num_MS2\": \"# MS2\",\n",
    "        \"num_id_MS2\": \"# MS2 IDs\",\n",
    "        \"id_pep\": \"# Peptide IDs\",\n",
    "        \"id_prot\": \"# Protein IDs\",\n",
    "        \"id_dppm_mean\": \"ID Δppm mean\",\n",
    "        \"id_dppm_std\": \"ID Δppm std\",\n",
    "        \"id_1stq_rtfrac\": \"RT fraction of 1st quarter of identifications\",\n",
    "        \"id_2ndq_rtfrac\": \"RT fraction of 2nd quarter of identifications\",\n",
    "        \"id_3rdq_rtfrac\": \"RT fraction of 3rd quarter of identifications\",\n",
    "        \"id_4thq_rtfrac\": \"RT fraction of 4th quarter of identifications\",\n",
    "        \"rt_min\": \"Spectra RT start\",\n",
    "        \"rt_max\": \"Spectra RT stop\",\n",
    "        \"0 mc\": \"0 missed cleavages\",\n",
    "        \"1 mc\": \"1 missed cleavages\",\n",
    "        \"2 mc\": \"2 missed cleavages\",\n",
    "        \"3+ mc\": \"3+ missed cleavages\",\n",
    "        \"mz_min\": \"m/z range start\",\n",
    "        \"mz_max\": \"m/z range stop\",\n",
    "    }\n",
    ")\n",
    "hmdf.index.name = \"MS run names\"\n",
    "plot = sns.clustermap(\n",
    "    hmdf.rank(pct=True).T,\n",
    "    cmap=\"magma\",\n",
    "    cbar_kws={\"label\": \"Percentile rank\", \"format\": ticker.PercentFormatter(xmax=1)},\n",
    "    cbar_pos=(1.0, 0.35, 0.03, 0.4),\n",
    "    vmin=0,\n",
    "    vmax=1,\n",
    ")\n",
    "plt.setp(plot.ax_heatmap.xaxis.get_majorticklabels(), rotation=45, ha=\"right\")\n",
    "\n",
    "for ticklabel in plot.ax_heatmap.get_xticklabels():\n",
    "    if \"DMSO\" in ticklabel.get_text():\n",
    "        ticklabel.set_color(\"darkgreen\")\n",
    "    else:\n",
    "        ticklabel.set_color(\"darkblue\")\n",
    "\n",
    "for ticklabel in plot.ax_heatmap.get_yticklabels():\n",
    "    if ticklabel.get_text() in {\n",
    "        \"# Protein IDs\",\n",
    "        \"# MS2\",\n",
    "        \"# MS2 IDs\",\n",
    "        \"# peptide IDs\",\n",
    "        \"TIC Σ\",\n",
    "        \"0 missed cleavages\",\n",
    "    }:\n",
    "        ticklabel.set_color(\"darkgreen\")\n",
    "\n",
    "plot.savefig(\"heatmap.png\", dpi=300)"
   ]
  },
  {
   "cell_type": "markdown",
   "metadata": {},
   "source": [
    "We see that both DMSO and Suf groups cluster in the lower half of the heatmap, though one DMSO run (EG1) seems to be closer to one of the Suf runs (EG5). The upper half of the heatmap is clustered less clear, except  for one DMSO run (again EG1). One reason might be that the metric values are considered face-value without further context in this map."
   ]
  },
  {
   "cell_type": "code",
   "execution_count": null,
   "metadata": {},
   "outputs": [],
   "source": [
    "fig, (ax1, ax2) = plt.subplots(1, 2, sharex=False, sharey=True, figsize=(10, 3))\n",
    "fig.suptitle(\"Identified Proteins\")\n",
    "\n",
    "mzqc_df.id_prot.plot.line(ax=ax1, title=\"by group\").tick_params(axis=\"x\", rotation=65)\n",
    "mzqc_df.sort_values(by=[\"date_order\"]).id_prot.plot.line(\n",
    "    ax=ax2, title=\"by order\"\n",
    ").tick_params(axis=\"x\", rotation=65)\n",
    "\n",
    "print(mzqc_df.drop(\"Ecoli_DMSO_rep1_EG-1\", axis=0).id_prot.mean())"
   ]
  },
  {
   "cell_type": "markdown",
   "metadata": {},
   "source": [
    "With this in mind, we look first at the number of identified proteins in each run, and match it against our expectation. \n",
    "We first visualise by experimental group (left), then by order of acquisition (right) to possibly detect ant influence of the run order or grouping towards the identification.\n",
    "Immediately recognizable is the first run (EG1) with the lowest number of proteins covered. \n",
    "In addition, an upward trend may be recognised (stronger in order of acquisition, right). \n",
    "In general, even when excluding the first DMSO run (EG1), the number of identified Proteins is still low (average 1320).\n",
    "This points toward an optimisation potential for the identification input parameters.\n",
    "An influence of the run order towards the identification seems unlikely with the exception of EG1, which cannot be investigated with the data at hand.\n",
    "Here, longitudinal QC measurements (generalised instrument performance before, after and maybe even in-between the study's runs) are usually a great help to categorise the data further.\n"
   ]
  },
  {
   "cell_type": "code",
   "execution_count": null,
   "metadata": {
    "colab": {
     "base_uri": "https://localhost:8080/",
     "height": 466
    },
    "id": "M3xI0H7cDok8",
    "outputId": "04150a2b-f619-4e63-fe31-922f71d56dea"
   },
   "outputs": [],
   "source": [
    "# ax = mzqc_df[[\"num_id_MS2\", \"num_MS2\"]].plot.line().tick_params(axis='x', rotation=35)\n",
    "fig, (ax1, ax2) = plt.subplots(1, 2, sharex=False, sharey=True, figsize=(10, 3))\n",
    "fig.suptitle(\"Spectra Identification Rate\")\n",
    "\n",
    "(mzqc_df[\"num_id_MS2\"] / (mzqc_df[\"num_MS2\"])).plot.line(\n",
    "    ax=ax1, title=\"by group\"\n",
    ").tick_params(axis=\"x\", rotation=65)\n",
    "(\n",
    "    mzqc_df.sort_values(by=[\"date_order\"])[\"num_id_MS2\"]\n",
    "    / (mzqc_df.sort_values(by=[\"date_order\"])[\"num_MS2\"])\n",
    ").plot.line(ax=ax2, title=\"by order\").tick_params(axis=\"x\", rotation=65)"
   ]
  },
  {
   "cell_type": "markdown",
   "metadata": {},
   "source": [
    "Similarly, we look at the spectra identification ratio. \n",
    "Here, we'd expect in a good case a quarter to half of the spectra recorded to be identified.\n",
    "We notice that actually less than a 5th of the MS2 spectra are identified. \n",
    "An influence of the run order towards the identification ratio seems less likely than in the previous plot with the number of identified proteins.\n",
    "In fact, the group separation is relatively well pronounced for the spectra identification ratio."
   ]
  },
  {
   "cell_type": "markdown",
   "metadata": {},
   "source": [
    "We also notice, that the ratio for the first run (EG1) is among the highest values. \n",
    "Low identification numbers, but a strong identification ratio in EG1 leads us to assume the outlier effects seen from EG1 originate for a reason different than the sample's contents.\n",
    "A low number of MS2 with a good ratio identifiable can be due to issues with the sample type itself.\n",
    "However, given the fact that the other runs in the group show a different pattern, there may have been issues with the isolation and collection of sufficient amounts of precursor ions for successful framgentation and subsequent identification in that particular run.\n",
    "\n",
    "One reason for the latter may be the insufficient utilisation of ion collection time or great levels of (chemical) noise. \n",
    "Therefore, we inspect the mean ion collection times for MS1 first.\n",
    "We see that the survey scans are fairly close in their mean ion collection time, with a loose clustering at the group level, without hints of influence by the acquisition order. "
   ]
  },
  {
   "cell_type": "code",
   "execution_count": null,
   "metadata": {},
   "outputs": [],
   "source": [
    "fig, (ax1, ax2) = plt.subplots(1, 2, sharex=False, sharey=True, figsize=(10, 3))\n",
    "fig.suptitle(\"Mean Ion Collection Time for Survey Scans\")\n",
    "\n",
    "mzqc_df[\"MS1_ict_mean\"].plot.line(ax=ax1, title=\"by group\").tick_params(\n",
    "    axis=\"x\", rotation=65\n",
    ")\n",
    "mzqc_df.sort_values(by=[\"date_order\"])[\"MS1_ict_mean\"].plot.line(\n",
    "    ax=ax2, title=\"by order\"\n",
    ").tick_params(axis=\"x\", rotation=65)"
   ]
  },
  {
   "cell_type": "markdown",
   "metadata": {},
   "source": [
    "Inspecting the MS2 mean ion collection time, we see a similar difference between the means for each group and also the survey scans.\n",
    "There are also no hints of acquisition-order influence.\n",
    "However, the 'first' runs of each group (EG1/EG5) have a markedly lower collection time than the rest of the group. \n",
    "This is less pronounced for the Suf group (EG5) and likely inconsequential since it is not connected to any other shortfalls in EG5.\n",
    "For EG1 this strengthens the case for treating it as an outlier.\n",
    "> The lower amount of time spent collecting both MS1 and MS2 might speak to a problem with non-protein contaminants?  \n",
    "> machine presets: Q-Exactive+, 375–1800 m/z, MS1 maximal injection time of 50 ms, AGC maximum 3*10^6, reso­lution of 70 k, MS2 20 MS/MS HCD scans, (NCE? of 28;32;38,) maximal injection time of 60 ms, AGC maximum 2*10^5, resolution of 17.5 k. Data analysis with MaxQuant (v1.6.17.0) and Perseus."
   ]
  },
  {
   "cell_type": "code",
   "execution_count": null,
   "metadata": {},
   "outputs": [],
   "source": [
    "fig, (ax1, ax2) = plt.subplots(1, 2, sharex=False, sharey=True, figsize=(10, 3))\n",
    "fig.suptitle(\"Mean Ion Collection Time for Fragment Scans\")\n",
    "\n",
    "mzqc_df[\"MS2_ict_mean\"].plot.line(ax=ax1, title=\"by group\").tick_params(\n",
    "    axis=\"x\", rotation=65\n",
    ")\n",
    "mzqc_df.sort_values(by=[\"date_order\"])[\"MS2_ict_mean\"].plot.line(\n",
    "    ax=ax2, title=\"by order\"\n",
    ").tick_params(axis=\"x\", rotation=65)"
   ]
  },
  {
   "cell_type": "markdown",
   "metadata": {},
   "source": [
    "We can look for further evidence of a contamination issue by looking at how the signal(s) were utilised. \n",
    "Available are the basepeak intensities together with the summed total ion count intensities.\n",
    "We first look at how the two values compare (left) and then observe the ratio of basepeak intensities sums and total ion count intensities.\n",
    "Here again the first run (EG1) appears to go against the trend, acquisition order interference can be discarded (not shown).   \n",
    "Though a lot of signal was registered at the base peaks, the amount of ion signal that can be processed was less in EG1 when compared to the other runs, pointing towards an issue with the sample measured or the ionisation working improperly. \n",
    "> Since there are fewer MS2 in EG1 than in all other runs, we think it is no ionisation issue though that is one of the common issues with failing runs, but rather some other trivial issue like accidental dilution or the sample sitting for too long sample containers, pepetides precipitating against the container walls. Or some such."
   ]
  },
  {
   "cell_type": "code",
   "execution_count": null,
   "metadata": {
    "colab": {
     "base_uri": "https://localhost:8080/",
     "height": 482
    },
    "id": "3yFmRpK-FeYE",
    "outputId": "4ac5e38b-a177-4113-b593-01173b05081e"
   },
   "outputs": [],
   "source": [
    "fig, (ax1, ax2) = plt.subplots(1, 2, sharex=False, sharey=False, figsize=(10, 3))\n",
    "fig.suptitle(\"Signal Utilisation\")\n",
    "\n",
    "(mzqc_df[[\"basepeakintensities_sum\", \"ticintensities_sum\"]]).plot.line(\n",
    "    ax=ax1, title=\"side-by-side & by group\"\n",
    ").tick_params(axis=\"x\", rotation=65)\n",
    "# (mzqc_df['ticintensities_sum']/mzqc_df['basepeakintensities_sum']/1e-1).plot.line(ax=ax2, title = \"ratios by group\").tick_params(axis='x', rotation=65)\n",
    "(mzqc_df[\"basepeakintensities_sum\"] / mzqc_df[\"ticintensities_sum\"]).plot.line(\n",
    "    ax=ax2, title=\"ratios by group\"\n",
    ").tick_params(axis=\"x\", rotation=65)"
   ]
  },
  {
   "cell_type": "markdown",
   "metadata": {},
   "source": [
    "## TICs \n",
    "To round things off, lets plot the TICs of the runs. Specifically, contrast run EG1 against all other runs of the study. "
   ]
  },
  {
   "cell_type": "code",
   "execution_count": null,
   "metadata": {},
   "outputs": [],
   "source": [
    "tics = []\n",
    "for run in mzqcobj.runQualities:\n",
    "    sws = [sw.name for sw in run.metadata.analysisSoftware]\n",
    "    if \"custom unreleased software tool\" in sws and \"mzR\" not in sws:\n",
    "        tics.append(\n",
    "            pd.DataFrame(\n",
    "                next(\n",
    "                    iter(\n",
    "                        [\n",
    "                            cd.value\n",
    "                            for cd in run.qualityMetrics\n",
    "                            if cd.accession == \"MS:4000104\"\n",
    "                        ]\n",
    "                    )\n",
    "                )\n",
    "            ).assign(run=base_run_name(run.metadata.inputFiles))\n",
    "        )\n",
    "        # .astype('float')\n",
    "tics_df = pd.concat(tics)\n",
    "tics_df"
   ]
  },
  {
   "cell_type": "code",
   "execution_count": null,
   "metadata": {},
   "outputs": [],
   "source": [
    "tics_df.run = tics_df.run.str.removeprefix(\"20220830_JL-4884_Forster_\")\n",
    "tics_df[\"EG1_or_not\"] = np.where(tics_df.run.str.endswith(\"1\"), \"EG1\", \"notEG1\")\n",
    "tics_df[\"EG1_or_not\"] = tics_df[\"EG1_or_not\"].astype(\"category\")\n",
    "tics_df\n",
    "\n",
    "sns.set(rc={\"figure.figsize\": (16, 8)})\n",
    "ax = sns.lineplot(\n",
    "    data=tics_df,\n",
    "    x=\"MS:1000894\",\n",
    "    y=\"MS:1000285\",\n",
    "    hue=\"EG1_or_not\",\n",
    "    palette=[\"lightblue\", \"red\"],\n",
    "    hue_order=[\"notEG1\", \"EG1\"],\n",
    "    alpha=0.6,\n",
    ")\n",
    "ax.set_xlabel(\"RT[s]\")\n",
    "ax.set_ylabel(\"Intensity[counts]\")"
   ]
  },
  {
   "cell_type": "markdown",
   "metadata": {},
   "source": [
    "## Conclusion \n",
    "In short: we would probably re-run EG1, at least treating it as an outlier (which their quantification rule set for proteins present in at least 3 measurements served for)"
   ]
  },
  {
   "cell_type": "markdown",
   "metadata": {},
   "source": [
    "We can look at the quality of the experiment from a different perspective as we did briefly before by checking against expected results (as informed by previous runs, experience, limiting input factors, etc.) \n",
    "We therefore shape the QC metric values into a set of ratios to form a value between 0 and 100 from which we can easily gauge a run standing on its own and just as easy apply acceptance limits, which for this example __could be better informed__. \n",
    " * The acquisition time, scaled by the gradient length setting (i.e. 7500 sec is 100%)\n",
    " * The injection times with a fixed lower limit as 0% - 50ns as per instrument settings\n",
    " * The mean of missed cleavages, with a fixed lower limit of any value > 1 and upper limit of 0 missed cleavages representing 100% (mc setting is 3 but we 'arbitrarily' set the acceptable limit of mean missed cleavages in a run to < 1)\n",
    " * For the spectra identification ratio, we set our expectations for a good run (i.e. 100%) to be at a quarter of spectra identified (1:4 ratio)\n",
    " * The longest stretch of acquisition time during which identifications were made scaled against the complete acquisition time\n",
    " * The mean identification mass accuracy (in dppm), with a fixed lower limit of any > 20 abs(deltaPPM) as 0%.\n",
    " * protein coverage, targeting to cover 1000 proteins (100%) w/ these settings seems reasonable?\n",
    " * peptide oversampling, the percentage of peptides sampled (successfully) more than once\n"
   ]
  }
 ],
 "metadata": {
  "colab": {
   "provenance": []
  },
  "kernelspec": {
   "display_name": "Python 3 (ipykernel)",
   "language": "python",
   "name": "python3"
  },
  "language_info": {
   "codemirror_mode": {
    "name": "ipython",
    "version": 3
   },
   "file_extension": ".py",
   "mimetype": "text/x-python",
   "name": "python",
   "nbconvert_exporter": "python",
   "pygments_lexer": "ipython3",
   "version": "3.12.2"
  }
 },
 "nbformat": 4,
 "nbformat_minor": 4
}
